{
 "cells": [
  {
   "cell_type": "code",
   "execution_count": 1,
   "id": "66e6aa92",
   "metadata": {},
   "outputs": [],
   "source": [
    "import numpy as np\n",
    "import pandas as pd"
   ]
  },
  {
   "cell_type": "code",
   "execution_count": 2,
   "id": "0ebe1f4d",
   "metadata": {},
   "outputs": [],
   "source": [
    "inventory = pd.read_csv('inventory.csv',delimiter= ';')  \n",
    "actor = pd.read_csv('actor.csv',delimiter= ';')\n",
    "old_HDD = pd.read_csv('old_HDD.csv',delimiter= ';') \n",
    "film = pd.read_csv('film.csv',delimiter= ';')  \n",
    "category = pd.read_csv('category.csv',delimiter= ';') \n",
    "language = pd.read_csv('language.csv',delimiter= ';') \n",
    "rental = pd.read_csv('rental.csv',delimiter= ';') "
   ]
  },
  {
   "cell_type": "markdown",
   "id": "62c95769",
   "metadata": {},
   "source": [
    "# Actor Table"
   ]
  },
  {
   "cell_type": "code",
   "execution_count": 3,
   "id": "f2248264",
   "metadata": {},
   "outputs": [
    {
     "name": "stdout",
     "output_type": "stream",
     "text": [
      "<class 'pandas.core.frame.DataFrame'>\n",
      "RangeIndex: 200 entries, 0 to 199\n",
      "Data columns (total 4 columns):\n",
      " #   Column       Non-Null Count  Dtype \n",
      "---  ------       --------------  ----- \n",
      " 0   actor_id     200 non-null    int64 \n",
      " 1   first_name   200 non-null    object\n",
      " 2   last_name    200 non-null    object\n",
      " 3   last_update  200 non-null    object\n",
      "dtypes: int64(1), object(3)\n",
      "memory usage: 6.4+ KB\n"
     ]
    }
   ],
   "source": [
    "actor = pd.read_csv('actor.csv',delimiter= ';')\n",
    "actor.info()"
   ]
  },
  {
   "cell_type": "code",
   "execution_count": 4,
   "id": "645d88e0",
   "metadata": {},
   "outputs": [
    {
     "data": {
      "text/plain": [
       "actor_id       0\n",
       "first_name     0\n",
       "last_name      0\n",
       "last_update    0\n",
       "dtype: int64"
      ]
     },
     "execution_count": 4,
     "metadata": {},
     "output_type": "execute_result"
    }
   ],
   "source": [
    "actor.drop_duplicates(inplace=True)\n",
    "actor.isnull().sum()"
   ]
  },
  {
   "cell_type": "code",
   "execution_count": 5,
   "id": "b6acdeee",
   "metadata": {},
   "outputs": [
    {
     "data": {
      "text/plain": [
       "0"
      ]
     },
     "execution_count": 5,
     "metadata": {},
     "output_type": "execute_result"
    }
   ],
   "source": [
    "actor.duplicated().sum()"
   ]
  },
  {
   "cell_type": "code",
   "execution_count": 6,
   "id": "f91b67f0",
   "metadata": {},
   "outputs": [
    {
     "data": {
      "text/html": [
       "<div>\n",
       "<style scoped>\n",
       "    .dataframe tbody tr th:only-of-type {\n",
       "        vertical-align: middle;\n",
       "    }\n",
       "\n",
       "    .dataframe tbody tr th {\n",
       "        vertical-align: top;\n",
       "    }\n",
       "\n",
       "    .dataframe thead th {\n",
       "        text-align: right;\n",
       "    }\n",
       "</style>\n",
       "<table border=\"1\" class=\"dataframe\">\n",
       "  <thead>\n",
       "    <tr style=\"text-align: right;\">\n",
       "      <th></th>\n",
       "      <th>actor_id</th>\n",
       "      <th>first_name</th>\n",
       "      <th>last_name</th>\n",
       "      <th>last_update</th>\n",
       "    </tr>\n",
       "  </thead>\n",
       "  <tbody>\n",
       "    <tr>\n",
       "      <th>0</th>\n",
       "      <td>1</td>\n",
       "      <td>PENELOPE</td>\n",
       "      <td>GUINESS</td>\n",
       "      <td>15/2/06 04:34</td>\n",
       "    </tr>\n",
       "    <tr>\n",
       "      <th>1</th>\n",
       "      <td>2</td>\n",
       "      <td>NICK</td>\n",
       "      <td>WAHLBERG</td>\n",
       "      <td>15/2/06 04:34</td>\n",
       "    </tr>\n",
       "    <tr>\n",
       "      <th>2</th>\n",
       "      <td>3</td>\n",
       "      <td>ED</td>\n",
       "      <td>CHASE</td>\n",
       "      <td>15/2/06 04:34</td>\n",
       "    </tr>\n",
       "    <tr>\n",
       "      <th>3</th>\n",
       "      <td>4</td>\n",
       "      <td>JENNIFER</td>\n",
       "      <td>DAVIS</td>\n",
       "      <td>15/2/06 04:34</td>\n",
       "    </tr>\n",
       "    <tr>\n",
       "      <th>4</th>\n",
       "      <td>5</td>\n",
       "      <td>JOHNNY</td>\n",
       "      <td>LOLLOBRIGIDA</td>\n",
       "      <td>15/2/06 04:34</td>\n",
       "    </tr>\n",
       "  </tbody>\n",
       "</table>\n",
       "</div>"
      ],
      "text/plain": [
       "   actor_id first_name     last_name    last_update\n",
       "0         1   PENELOPE       GUINESS  15/2/06 04:34\n",
       "1         2       NICK      WAHLBERG  15/2/06 04:34\n",
       "2         3         ED         CHASE  15/2/06 04:34\n",
       "3         4   JENNIFER         DAVIS  15/2/06 04:34\n",
       "4         5     JOHNNY  LOLLOBRIGIDA  15/2/06 04:34"
      ]
     },
     "execution_count": 6,
     "metadata": {},
     "output_type": "execute_result"
    }
   ],
   "source": [
    "actor.head()"
   ]
  },
  {
   "cell_type": "code",
   "execution_count": 7,
   "id": "53ff5cb6",
   "metadata": {},
   "outputs": [],
   "source": [
    "actor['full_name'] = actor['first_name'] + ' ' + actor['last_name']"
   ]
  },
  {
   "cell_type": "code",
   "execution_count": 8,
   "id": "42dc363c",
   "metadata": {},
   "outputs": [],
   "source": [
    "actor.drop(columns = 'first_name', inplace = True)\n",
    "actor.drop(columns = 'last_name', inplace = True)\n",
    "actor.drop(columns = 'last_update', inplace= True)"
   ]
  },
  {
   "cell_type": "code",
   "execution_count": 9,
   "id": "6d2232b8",
   "metadata": {},
   "outputs": [
    {
     "data": {
      "text/html": [
       "<div>\n",
       "<style scoped>\n",
       "    .dataframe tbody tr th:only-of-type {\n",
       "        vertical-align: middle;\n",
       "    }\n",
       "\n",
       "    .dataframe tbody tr th {\n",
       "        vertical-align: top;\n",
       "    }\n",
       "\n",
       "    .dataframe thead th {\n",
       "        text-align: right;\n",
       "    }\n",
       "</style>\n",
       "<table border=\"1\" class=\"dataframe\">\n",
       "  <thead>\n",
       "    <tr style=\"text-align: right;\">\n",
       "      <th></th>\n",
       "      <th>actor_id</th>\n",
       "      <th>full_name</th>\n",
       "    </tr>\n",
       "  </thead>\n",
       "  <tbody>\n",
       "    <tr>\n",
       "      <th>0</th>\n",
       "      <td>1</td>\n",
       "      <td>PENELOPE GUINESS</td>\n",
       "    </tr>\n",
       "    <tr>\n",
       "      <th>1</th>\n",
       "      <td>2</td>\n",
       "      <td>NICK WAHLBERG</td>\n",
       "    </tr>\n",
       "    <tr>\n",
       "      <th>2</th>\n",
       "      <td>3</td>\n",
       "      <td>ED CHASE</td>\n",
       "    </tr>\n",
       "    <tr>\n",
       "      <th>3</th>\n",
       "      <td>4</td>\n",
       "      <td>JENNIFER DAVIS</td>\n",
       "    </tr>\n",
       "    <tr>\n",
       "      <th>4</th>\n",
       "      <td>5</td>\n",
       "      <td>JOHNNY LOLLOBRIGIDA</td>\n",
       "    </tr>\n",
       "    <tr>\n",
       "      <th>...</th>\n",
       "      <td>...</td>\n",
       "      <td>...</td>\n",
       "    </tr>\n",
       "    <tr>\n",
       "      <th>195</th>\n",
       "      <td>196</td>\n",
       "      <td>BELA WALKEN</td>\n",
       "    </tr>\n",
       "    <tr>\n",
       "      <th>196</th>\n",
       "      <td>197</td>\n",
       "      <td>REESE WEST</td>\n",
       "    </tr>\n",
       "    <tr>\n",
       "      <th>197</th>\n",
       "      <td>198</td>\n",
       "      <td>MARY KEITEL</td>\n",
       "    </tr>\n",
       "    <tr>\n",
       "      <th>198</th>\n",
       "      <td>199</td>\n",
       "      <td>JULIA FAWCETT</td>\n",
       "    </tr>\n",
       "    <tr>\n",
       "      <th>199</th>\n",
       "      <td>200</td>\n",
       "      <td>THORA TEMPLE</td>\n",
       "    </tr>\n",
       "  </tbody>\n",
       "</table>\n",
       "<p>200 rows × 2 columns</p>\n",
       "</div>"
      ],
      "text/plain": [
       "     actor_id            full_name\n",
       "0           1     PENELOPE GUINESS\n",
       "1           2        NICK WAHLBERG\n",
       "2           3             ED CHASE\n",
       "3           4       JENNIFER DAVIS\n",
       "4           5  JOHNNY LOLLOBRIGIDA\n",
       "..        ...                  ...\n",
       "195       196          BELA WALKEN\n",
       "196       197           REESE WEST\n",
       "197       198          MARY KEITEL\n",
       "198       199        JULIA FAWCETT\n",
       "199       200         THORA TEMPLE\n",
       "\n",
       "[200 rows x 2 columns]"
      ]
     },
     "execution_count": 9,
     "metadata": {},
     "output_type": "execute_result"
    }
   ],
   "source": [
    "actor"
   ]
  },
  {
   "cell_type": "code",
   "execution_count": 10,
   "id": "fed8ac9f",
   "metadata": {},
   "outputs": [],
   "source": [
    "actor.to_csv('actor_clean.csv', index=False)"
   ]
  },
  {
   "cell_type": "markdown",
   "id": "5ac262f2",
   "metadata": {},
   "source": [
    "# Category Table"
   ]
  },
  {
   "cell_type": "code",
   "execution_count": 11,
   "id": "93447791",
   "metadata": {},
   "outputs": [
    {
     "data": {
      "text/html": [
       "<div>\n",
       "<style scoped>\n",
       "    .dataframe tbody tr th:only-of-type {\n",
       "        vertical-align: middle;\n",
       "    }\n",
       "\n",
       "    .dataframe tbody tr th {\n",
       "        vertical-align: top;\n",
       "    }\n",
       "\n",
       "    .dataframe thead th {\n",
       "        text-align: right;\n",
       "    }\n",
       "</style>\n",
       "<table border=\"1\" class=\"dataframe\">\n",
       "  <thead>\n",
       "    <tr style=\"text-align: right;\">\n",
       "      <th></th>\n",
       "      <th>category_id</th>\n",
       "      <th>name</th>\n",
       "      <th>last_update</th>\n",
       "    </tr>\n",
       "  </thead>\n",
       "  <tbody>\n",
       "    <tr>\n",
       "      <th>0</th>\n",
       "      <td>1</td>\n",
       "      <td>Action</td>\n",
       "      <td>15/2/06 04:46</td>\n",
       "    </tr>\n",
       "    <tr>\n",
       "      <th>1</th>\n",
       "      <td>2</td>\n",
       "      <td>Animation</td>\n",
       "      <td>15/2/06 04:46</td>\n",
       "    </tr>\n",
       "    <tr>\n",
       "      <th>2</th>\n",
       "      <td>3</td>\n",
       "      <td>Children</td>\n",
       "      <td>15/2/06 04:46</td>\n",
       "    </tr>\n",
       "    <tr>\n",
       "      <th>3</th>\n",
       "      <td>4</td>\n",
       "      <td>Classics</td>\n",
       "      <td>15/2/06 04:46</td>\n",
       "    </tr>\n",
       "    <tr>\n",
       "      <th>4</th>\n",
       "      <td>5</td>\n",
       "      <td>Comedy</td>\n",
       "      <td>15/2/06 04:46</td>\n",
       "    </tr>\n",
       "    <tr>\n",
       "      <th>5</th>\n",
       "      <td>6</td>\n",
       "      <td>Documentary</td>\n",
       "      <td>15/2/06 04:46</td>\n",
       "    </tr>\n",
       "    <tr>\n",
       "      <th>6</th>\n",
       "      <td>7</td>\n",
       "      <td>Drama</td>\n",
       "      <td>15/2/06 04:46</td>\n",
       "    </tr>\n",
       "    <tr>\n",
       "      <th>7</th>\n",
       "      <td>8</td>\n",
       "      <td>Family</td>\n",
       "      <td>15/2/06 04:46</td>\n",
       "    </tr>\n",
       "    <tr>\n",
       "      <th>8</th>\n",
       "      <td>9</td>\n",
       "      <td>Foreign</td>\n",
       "      <td>15/2/06 04:46</td>\n",
       "    </tr>\n",
       "    <tr>\n",
       "      <th>9</th>\n",
       "      <td>10</td>\n",
       "      <td>Games</td>\n",
       "      <td>15/2/06 04:46</td>\n",
       "    </tr>\n",
       "    <tr>\n",
       "      <th>10</th>\n",
       "      <td>11</td>\n",
       "      <td>Horror</td>\n",
       "      <td>15/2/06 04:46</td>\n",
       "    </tr>\n",
       "    <tr>\n",
       "      <th>11</th>\n",
       "      <td>12</td>\n",
       "      <td>Music</td>\n",
       "      <td>15/2/06 04:46</td>\n",
       "    </tr>\n",
       "    <tr>\n",
       "      <th>12</th>\n",
       "      <td>13</td>\n",
       "      <td>New</td>\n",
       "      <td>15/2/06 04:46</td>\n",
       "    </tr>\n",
       "    <tr>\n",
       "      <th>13</th>\n",
       "      <td>14</td>\n",
       "      <td>Sci-Fi</td>\n",
       "      <td>15/2/06 04:46</td>\n",
       "    </tr>\n",
       "    <tr>\n",
       "      <th>14</th>\n",
       "      <td>15</td>\n",
       "      <td>Sports</td>\n",
       "      <td>15/2/06 04:46</td>\n",
       "    </tr>\n",
       "    <tr>\n",
       "      <th>15</th>\n",
       "      <td>16</td>\n",
       "      <td>Travel</td>\n",
       "      <td>15/2/06 04:46</td>\n",
       "    </tr>\n",
       "  </tbody>\n",
       "</table>\n",
       "</div>"
      ],
      "text/plain": [
       "    category_id         name    last_update\n",
       "0             1       Action  15/2/06 04:46\n",
       "1             2    Animation  15/2/06 04:46\n",
       "2             3     Children  15/2/06 04:46\n",
       "3             4     Classics  15/2/06 04:46\n",
       "4             5       Comedy  15/2/06 04:46\n",
       "5             6  Documentary  15/2/06 04:46\n",
       "6             7        Drama  15/2/06 04:46\n",
       "7             8       Family  15/2/06 04:46\n",
       "8             9      Foreign  15/2/06 04:46\n",
       "9            10        Games  15/2/06 04:46\n",
       "10           11       Horror  15/2/06 04:46\n",
       "11           12        Music  15/2/06 04:46\n",
       "12           13          New  15/2/06 04:46\n",
       "13           14       Sci-Fi  15/2/06 04:46\n",
       "14           15       Sports  15/2/06 04:46\n",
       "15           16       Travel  15/2/06 04:46"
      ]
     },
     "execution_count": 11,
     "metadata": {},
     "output_type": "execute_result"
    }
   ],
   "source": [
    "category"
   ]
  },
  {
   "cell_type": "code",
   "execution_count": 12,
   "id": "c96b130d",
   "metadata": {},
   "outputs": [
    {
     "name": "stderr",
     "output_type": "stream",
     "text": [
      "/var/folders/9r/gs1g10c57dq76y5t067393s40000gn/T/ipykernel_17439/835959458.py:2: FutureWarning: The frame.append method is deprecated and will be removed from pandas in a future version. Use pandas.concat instead.\n",
      "  category = category.append(new_row, ignore_index=True)\n"
     ]
    },
    {
     "data": {
      "text/html": [
       "<div>\n",
       "<style scoped>\n",
       "    .dataframe tbody tr th:only-of-type {\n",
       "        vertical-align: middle;\n",
       "    }\n",
       "\n",
       "    .dataframe tbody tr th {\n",
       "        vertical-align: top;\n",
       "    }\n",
       "\n",
       "    .dataframe thead th {\n",
       "        text-align: right;\n",
       "    }\n",
       "</style>\n",
       "<table border=\"1\" class=\"dataframe\">\n",
       "  <thead>\n",
       "    <tr style=\"text-align: right;\">\n",
       "      <th></th>\n",
       "      <th>category_id</th>\n",
       "      <th>name</th>\n",
       "      <th>last_update</th>\n",
       "    </tr>\n",
       "  </thead>\n",
       "  <tbody>\n",
       "    <tr>\n",
       "      <th>0</th>\n",
       "      <td>1</td>\n",
       "      <td>Action</td>\n",
       "      <td>15/2/06 04:46</td>\n",
       "    </tr>\n",
       "    <tr>\n",
       "      <th>1</th>\n",
       "      <td>2</td>\n",
       "      <td>Animation</td>\n",
       "      <td>15/2/06 04:46</td>\n",
       "    </tr>\n",
       "    <tr>\n",
       "      <th>2</th>\n",
       "      <td>3</td>\n",
       "      <td>Children</td>\n",
       "      <td>15/2/06 04:46</td>\n",
       "    </tr>\n",
       "    <tr>\n",
       "      <th>3</th>\n",
       "      <td>4</td>\n",
       "      <td>Classics</td>\n",
       "      <td>15/2/06 04:46</td>\n",
       "    </tr>\n",
       "    <tr>\n",
       "      <th>4</th>\n",
       "      <td>5</td>\n",
       "      <td>Comedy</td>\n",
       "      <td>15/2/06 04:46</td>\n",
       "    </tr>\n",
       "    <tr>\n",
       "      <th>5</th>\n",
       "      <td>6</td>\n",
       "      <td>Documentary</td>\n",
       "      <td>15/2/06 04:46</td>\n",
       "    </tr>\n",
       "    <tr>\n",
       "      <th>6</th>\n",
       "      <td>7</td>\n",
       "      <td>Drama</td>\n",
       "      <td>15/2/06 04:46</td>\n",
       "    </tr>\n",
       "    <tr>\n",
       "      <th>7</th>\n",
       "      <td>8</td>\n",
       "      <td>Family</td>\n",
       "      <td>15/2/06 04:46</td>\n",
       "    </tr>\n",
       "    <tr>\n",
       "      <th>8</th>\n",
       "      <td>9</td>\n",
       "      <td>Foreign</td>\n",
       "      <td>15/2/06 04:46</td>\n",
       "    </tr>\n",
       "    <tr>\n",
       "      <th>9</th>\n",
       "      <td>10</td>\n",
       "      <td>Games</td>\n",
       "      <td>15/2/06 04:46</td>\n",
       "    </tr>\n",
       "    <tr>\n",
       "      <th>10</th>\n",
       "      <td>11</td>\n",
       "      <td>Horror</td>\n",
       "      <td>15/2/06 04:46</td>\n",
       "    </tr>\n",
       "    <tr>\n",
       "      <th>11</th>\n",
       "      <td>12</td>\n",
       "      <td>Music</td>\n",
       "      <td>15/2/06 04:46</td>\n",
       "    </tr>\n",
       "    <tr>\n",
       "      <th>12</th>\n",
       "      <td>13</td>\n",
       "      <td>New</td>\n",
       "      <td>15/2/06 04:46</td>\n",
       "    </tr>\n",
       "    <tr>\n",
       "      <th>13</th>\n",
       "      <td>14</td>\n",
       "      <td>Sci-Fi</td>\n",
       "      <td>15/2/06 04:46</td>\n",
       "    </tr>\n",
       "    <tr>\n",
       "      <th>14</th>\n",
       "      <td>15</td>\n",
       "      <td>Sports</td>\n",
       "      <td>15/2/06 04:46</td>\n",
       "    </tr>\n",
       "    <tr>\n",
       "      <th>15</th>\n",
       "      <td>16</td>\n",
       "      <td>Travel</td>\n",
       "      <td>15/2/06 04:46</td>\n",
       "    </tr>\n",
       "    <tr>\n",
       "      <th>16</th>\n",
       "      <td>0</td>\n",
       "      <td>Unknown</td>\n",
       "      <td>-</td>\n",
       "    </tr>\n",
       "  </tbody>\n",
       "</table>\n",
       "</div>"
      ],
      "text/plain": [
       "   category_id         name    last_update\n",
       "0            1       Action  15/2/06 04:46\n",
       "1            2    Animation  15/2/06 04:46\n",
       "2            3     Children  15/2/06 04:46\n",
       "3            4     Classics  15/2/06 04:46\n",
       "4            5       Comedy  15/2/06 04:46\n",
       "5            6  Documentary  15/2/06 04:46\n",
       "6            7        Drama  15/2/06 04:46\n",
       "7            8       Family  15/2/06 04:46\n",
       "8            9      Foreign  15/2/06 04:46\n",
       "9           10        Games  15/2/06 04:46\n",
       "10          11       Horror  15/2/06 04:46\n",
       "11          12        Music  15/2/06 04:46\n",
       "12          13          New  15/2/06 04:46\n",
       "13          14       Sci-Fi  15/2/06 04:46\n",
       "14          15       Sports  15/2/06 04:46\n",
       "15          16       Travel  15/2/06 04:46\n",
       "16           0      Unknown              -"
      ]
     },
     "execution_count": 12,
     "metadata": {},
     "output_type": "execute_result"
    }
   ],
   "source": [
    "new_row = {'category_id': '0', 'name': 'Unknown', 'last_update': '-'}\n",
    "category = category.append(new_row, ignore_index=True)\n",
    "category"
   ]
  },
  {
   "cell_type": "code",
   "execution_count": 13,
   "id": "cbd6eae7",
   "metadata": {},
   "outputs": [
    {
     "data": {
      "text/html": [
       "<div>\n",
       "<style scoped>\n",
       "    .dataframe tbody tr th:only-of-type {\n",
       "        vertical-align: middle;\n",
       "    }\n",
       "\n",
       "    .dataframe tbody tr th {\n",
       "        vertical-align: top;\n",
       "    }\n",
       "\n",
       "    .dataframe thead th {\n",
       "        text-align: right;\n",
       "    }\n",
       "</style>\n",
       "<table border=\"1\" class=\"dataframe\">\n",
       "  <thead>\n",
       "    <tr style=\"text-align: right;\">\n",
       "      <th></th>\n",
       "      <th>category_id</th>\n",
       "      <th>name</th>\n",
       "    </tr>\n",
       "  </thead>\n",
       "  <tbody>\n",
       "    <tr>\n",
       "      <th>0</th>\n",
       "      <td>1</td>\n",
       "      <td>Action</td>\n",
       "    </tr>\n",
       "    <tr>\n",
       "      <th>1</th>\n",
       "      <td>2</td>\n",
       "      <td>Animation</td>\n",
       "    </tr>\n",
       "    <tr>\n",
       "      <th>2</th>\n",
       "      <td>3</td>\n",
       "      <td>Children</td>\n",
       "    </tr>\n",
       "    <tr>\n",
       "      <th>3</th>\n",
       "      <td>4</td>\n",
       "      <td>Classics</td>\n",
       "    </tr>\n",
       "    <tr>\n",
       "      <th>4</th>\n",
       "      <td>5</td>\n",
       "      <td>Comedy</td>\n",
       "    </tr>\n",
       "    <tr>\n",
       "      <th>5</th>\n",
       "      <td>6</td>\n",
       "      <td>Documentary</td>\n",
       "    </tr>\n",
       "    <tr>\n",
       "      <th>6</th>\n",
       "      <td>7</td>\n",
       "      <td>Drama</td>\n",
       "    </tr>\n",
       "    <tr>\n",
       "      <th>7</th>\n",
       "      <td>8</td>\n",
       "      <td>Family</td>\n",
       "    </tr>\n",
       "    <tr>\n",
       "      <th>8</th>\n",
       "      <td>9</td>\n",
       "      <td>Foreign</td>\n",
       "    </tr>\n",
       "    <tr>\n",
       "      <th>9</th>\n",
       "      <td>10</td>\n",
       "      <td>Games</td>\n",
       "    </tr>\n",
       "    <tr>\n",
       "      <th>10</th>\n",
       "      <td>11</td>\n",
       "      <td>Horror</td>\n",
       "    </tr>\n",
       "    <tr>\n",
       "      <th>11</th>\n",
       "      <td>12</td>\n",
       "      <td>Music</td>\n",
       "    </tr>\n",
       "    <tr>\n",
       "      <th>12</th>\n",
       "      <td>13</td>\n",
       "      <td>New</td>\n",
       "    </tr>\n",
       "    <tr>\n",
       "      <th>13</th>\n",
       "      <td>14</td>\n",
       "      <td>Sci-Fi</td>\n",
       "    </tr>\n",
       "    <tr>\n",
       "      <th>14</th>\n",
       "      <td>15</td>\n",
       "      <td>Sports</td>\n",
       "    </tr>\n",
       "    <tr>\n",
       "      <th>15</th>\n",
       "      <td>16</td>\n",
       "      <td>Travel</td>\n",
       "    </tr>\n",
       "    <tr>\n",
       "      <th>16</th>\n",
       "      <td>0</td>\n",
       "      <td>Unknown</td>\n",
       "    </tr>\n",
       "  </tbody>\n",
       "</table>\n",
       "</div>"
      ],
      "text/plain": [
       "   category_id         name\n",
       "0            1       Action\n",
       "1            2    Animation\n",
       "2            3     Children\n",
       "3            4     Classics\n",
       "4            5       Comedy\n",
       "5            6  Documentary\n",
       "6            7        Drama\n",
       "7            8       Family\n",
       "8            9      Foreign\n",
       "9           10        Games\n",
       "10          11       Horror\n",
       "11          12        Music\n",
       "12          13          New\n",
       "13          14       Sci-Fi\n",
       "14          15       Sports\n",
       "15          16       Travel\n",
       "16           0      Unknown"
      ]
     },
     "execution_count": 13,
     "metadata": {},
     "output_type": "execute_result"
    }
   ],
   "source": [
    "category.drop(columns='last_update',inplace= True)\n",
    "category"
   ]
  },
  {
   "cell_type": "markdown",
   "id": "5e92adeb",
   "metadata": {},
   "source": [
    "# old_HDD Table"
   ]
  },
  {
   "cell_type": "code",
   "execution_count": 14,
   "id": "70f4372b",
   "metadata": {},
   "outputs": [],
   "source": [
    "old_HDD = pd.read_csv('old_HDD.csv',delimiter= ';')  "
   ]
  },
  {
   "cell_type": "code",
   "execution_count": 15,
   "id": "3840f2e0",
   "metadata": {},
   "outputs": [
    {
     "data": {
      "text/html": [
       "<div>\n",
       "<style scoped>\n",
       "    .dataframe tbody tr th:only-of-type {\n",
       "        vertical-align: middle;\n",
       "    }\n",
       "\n",
       "    .dataframe tbody tr th {\n",
       "        vertical-align: top;\n",
       "    }\n",
       "\n",
       "    .dataframe thead th {\n",
       "        text-align: right;\n",
       "    }\n",
       "</style>\n",
       "<table border=\"1\" class=\"dataframe\">\n",
       "  <thead>\n",
       "    <tr style=\"text-align: right;\">\n",
       "      <th></th>\n",
       "      <th>first_name</th>\n",
       "      <th>last_name</th>\n",
       "      <th>title</th>\n",
       "      <th>release_year</th>\n",
       "      <th>category_id</th>\n",
       "    </tr>\n",
       "  </thead>\n",
       "  <tbody>\n",
       "    <tr>\n",
       "      <th>0</th>\n",
       "      <td>PENELOPE</td>\n",
       "      <td>GUINESS</td>\n",
       "      <td>ACADEMY DINOSAUR</td>\n",
       "      <td>2006</td>\n",
       "      <td>6</td>\n",
       "    </tr>\n",
       "    <tr>\n",
       "      <th>1</th>\n",
       "      <td>PENELOPE</td>\n",
       "      <td>GUINESS</td>\n",
       "      <td>ANACONDA CONFESSIONS</td>\n",
       "      <td>2006</td>\n",
       "      <td>2</td>\n",
       "    </tr>\n",
       "    <tr>\n",
       "      <th>2</th>\n",
       "      <td>PENELOPE</td>\n",
       "      <td>GUINESS</td>\n",
       "      <td>ANGELS LIFE</td>\n",
       "      <td>2006</td>\n",
       "      <td>13</td>\n",
       "    </tr>\n",
       "    <tr>\n",
       "      <th>3</th>\n",
       "      <td>PENELOPE</td>\n",
       "      <td>GUINESS</td>\n",
       "      <td>BULWORTH COMMANDMENTS</td>\n",
       "      <td>2006</td>\n",
       "      <td>10</td>\n",
       "    </tr>\n",
       "    <tr>\n",
       "      <th>4</th>\n",
       "      <td>PENELOPE</td>\n",
       "      <td>GUINESS</td>\n",
       "      <td>CHEAPER CLYDE</td>\n",
       "      <td>2006</td>\n",
       "      <td>14</td>\n",
       "    </tr>\n",
       "    <tr>\n",
       "      <th>...</th>\n",
       "      <td>...</td>\n",
       "      <td>...</td>\n",
       "      <td>...</td>\n",
       "      <td>...</td>\n",
       "      <td>...</td>\n",
       "    </tr>\n",
       "    <tr>\n",
       "      <th>995</th>\n",
       "      <td>GOLDIE</td>\n",
       "      <td>BRODY</td>\n",
       "      <td>COMANCHEROS ENEMY</td>\n",
       "      <td>2006</td>\n",
       "      <td>3</td>\n",
       "    </tr>\n",
       "    <tr>\n",
       "      <th>996</th>\n",
       "      <td>GOLDIE</td>\n",
       "      <td>BRODY</td>\n",
       "      <td>DAISY MENAGERIE</td>\n",
       "      <td>2006</td>\n",
       "      <td>14</td>\n",
       "    </tr>\n",
       "    <tr>\n",
       "      <th>997</th>\n",
       "      <td>GOLDIE</td>\n",
       "      <td>BRODY</td>\n",
       "      <td>DESERT POSEIDON</td>\n",
       "      <td>2006</td>\n",
       "      <td>11</td>\n",
       "    </tr>\n",
       "    <tr>\n",
       "      <th>998</th>\n",
       "      <td>GOLDIE</td>\n",
       "      <td>BRODY</td>\n",
       "      <td>EVERYONE CRAFT</td>\n",
       "      <td>2006</td>\n",
       "      <td>9</td>\n",
       "    </tr>\n",
       "    <tr>\n",
       "      <th>999</th>\n",
       "      <td>GOLDIE</td>\n",
       "      <td>BRODY</td>\n",
       "      <td>EXORCIST STING</td>\n",
       "      <td>2006</td>\n",
       "      <td>15</td>\n",
       "    </tr>\n",
       "  </tbody>\n",
       "</table>\n",
       "<p>1000 rows × 5 columns</p>\n",
       "</div>"
      ],
      "text/plain": [
       "    first_name last_name                  title  release_year  category_id\n",
       "0     PENELOPE   GUINESS       ACADEMY DINOSAUR          2006            6\n",
       "1     PENELOPE   GUINESS   ANACONDA CONFESSIONS          2006            2\n",
       "2     PENELOPE   GUINESS            ANGELS LIFE          2006           13\n",
       "3     PENELOPE   GUINESS  BULWORTH COMMANDMENTS          2006           10\n",
       "4     PENELOPE   GUINESS          CHEAPER CLYDE          2006           14\n",
       "..         ...       ...                    ...           ...          ...\n",
       "995     GOLDIE     BRODY      COMANCHEROS ENEMY          2006            3\n",
       "996     GOLDIE     BRODY        DAISY MENAGERIE          2006           14\n",
       "997     GOLDIE     BRODY        DESERT POSEIDON          2006           11\n",
       "998     GOLDIE     BRODY         EVERYONE CRAFT          2006            9\n",
       "999     GOLDIE     BRODY         EXORCIST STING          2006           15\n",
       "\n",
       "[1000 rows x 5 columns]"
      ]
     },
     "execution_count": 15,
     "metadata": {},
     "output_type": "execute_result"
    }
   ],
   "source": [
    "old_HDD"
   ]
  },
  {
   "cell_type": "code",
   "execution_count": 16,
   "id": "cc51009a",
   "metadata": {},
   "outputs": [
    {
     "data": {
      "text/plain": [
       "0"
      ]
     },
     "execution_count": 16,
     "metadata": {},
     "output_type": "execute_result"
    }
   ],
   "source": [
    "old_HDD.duplicated().sum()"
   ]
  },
  {
   "cell_type": "code",
   "execution_count": 17,
   "id": "9723455d",
   "metadata": {},
   "outputs": [
    {
     "data": {
      "text/plain": [
       "first_name      0\n",
       "last_name       0\n",
       "title           0\n",
       "release_year    0\n",
       "category_id     0\n",
       "dtype: int64"
      ]
     },
     "execution_count": 17,
     "metadata": {},
     "output_type": "execute_result"
    }
   ],
   "source": [
    "old_HDD.isnull().sum()"
   ]
  },
  {
   "cell_type": "code",
   "execution_count": 18,
   "id": "2412ab71",
   "metadata": {},
   "outputs": [
    {
     "data": {
      "text/plain": [
       "first_name               386\n",
       "last_name                386\n",
       "title                      0\n",
       "release_year_x           386\n",
       "category_id              386\n",
       "film_id                    0\n",
       "description                0\n",
       "release_year_y             0\n",
       "language_id                0\n",
       "original_language_id    1386\n",
       "rental_duration            0\n",
       "rental_rate                0\n",
       "length                     0\n",
       "replacement_cost           0\n",
       "rating                     0\n",
       "special_features           0\n",
       "last_update                0\n",
       "dtype: int64"
      ]
     },
     "execution_count": 18,
     "metadata": {},
     "output_type": "execute_result"
    }
   ],
   "source": [
    "old_HDD = pd.merge(old_HDD, film, on='title', how='right')\n",
    "old_HDD.isnull().sum()"
   ]
  },
  {
   "cell_type": "code",
   "execution_count": 19,
   "id": "b75773cc",
   "metadata": {},
   "outputs": [],
   "source": [
    "old_HDD.drop(columns='original_language_id',inplace= True)"
   ]
  },
  {
   "cell_type": "code",
   "execution_count": 20,
   "id": "49a7188f",
   "metadata": {},
   "outputs": [],
   "source": [
    "old_HDD.drop(columns=['first_name', 'last_name', 'release_year_x'], inplace=True)"
   ]
  },
  {
   "cell_type": "code",
   "execution_count": 21,
   "id": "a6b51d88",
   "metadata": {},
   "outputs": [
    {
     "data": {
      "text/plain": [
       "386"
      ]
     },
     "execution_count": 21,
     "metadata": {},
     "output_type": "execute_result"
    }
   ],
   "source": [
    "old_HDD.duplicated().sum()"
   ]
  },
  {
   "cell_type": "code",
   "execution_count": 22,
   "id": "a2d997ab",
   "metadata": {},
   "outputs": [],
   "source": [
    "old_HDD.drop_duplicates(inplace=True)"
   ]
  },
  {
   "cell_type": "code",
   "execution_count": 23,
   "id": "6881a72b",
   "metadata": {},
   "outputs": [
    {
     "data": {
      "text/plain": [
       "title                 0\n",
       "category_id         386\n",
       "film_id               0\n",
       "description           0\n",
       "release_year_y        0\n",
       "language_id           0\n",
       "rental_duration       0\n",
       "rental_rate           0\n",
       "length                0\n",
       "replacement_cost      0\n",
       "rating                0\n",
       "special_features      0\n",
       "last_update           0\n",
       "dtype: int64"
      ]
     },
     "execution_count": 23,
     "metadata": {},
     "output_type": "execute_result"
    }
   ],
   "source": [
    "old_HDD.isnull().sum()"
   ]
  },
  {
   "cell_type": "code",
   "execution_count": 24,
   "id": "dff6d590",
   "metadata": {},
   "outputs": [
    {
     "data": {
      "text/html": [
       "<div>\n",
       "<style scoped>\n",
       "    .dataframe tbody tr th:only-of-type {\n",
       "        vertical-align: middle;\n",
       "    }\n",
       "\n",
       "    .dataframe tbody tr th {\n",
       "        vertical-align: top;\n",
       "    }\n",
       "\n",
       "    .dataframe thead th {\n",
       "        text-align: right;\n",
       "    }\n",
       "</style>\n",
       "<table border=\"1\" class=\"dataframe\">\n",
       "  <thead>\n",
       "    <tr style=\"text-align: right;\">\n",
       "      <th></th>\n",
       "      <th>title</th>\n",
       "      <th>category_id</th>\n",
       "      <th>film_id</th>\n",
       "      <th>description</th>\n",
       "      <th>release_year_y</th>\n",
       "      <th>language_id</th>\n",
       "      <th>rental_duration</th>\n",
       "      <th>rental_rate</th>\n",
       "      <th>length</th>\n",
       "      <th>replacement_cost</th>\n",
       "      <th>rating</th>\n",
       "      <th>special_features</th>\n",
       "      <th>last_update</th>\n",
       "    </tr>\n",
       "  </thead>\n",
       "  <tbody>\n",
       "    <tr>\n",
       "      <th>0</th>\n",
       "      <td>ACADEMY DINOSAUR</td>\n",
       "      <td>6.0</td>\n",
       "      <td>1</td>\n",
       "      <td>A Epic Drama of a Feminist And a Mad Scientist...</td>\n",
       "      <td>2006</td>\n",
       "      <td>1</td>\n",
       "      <td>6</td>\n",
       "      <td>0.99</td>\n",
       "      <td>86</td>\n",
       "      <td>20.99</td>\n",
       "      <td>PG</td>\n",
       "      <td>Deleted Scenes,Behind the Scenes</td>\n",
       "      <td>15/2/06 05:03</td>\n",
       "    </tr>\n",
       "    <tr>\n",
       "      <th>4</th>\n",
       "      <td>ACE GOLDFINGER</td>\n",
       "      <td>11.0</td>\n",
       "      <td>2</td>\n",
       "      <td>A Astounding Epistle of a Database Administrat...</td>\n",
       "      <td>2006</td>\n",
       "      <td>1</td>\n",
       "      <td>3</td>\n",
       "      <td>4.99</td>\n",
       "      <td>48</td>\n",
       "      <td>12.99</td>\n",
       "      <td>G</td>\n",
       "      <td>Trailers,Deleted Scenes</td>\n",
       "      <td>15/2/06 05:03</td>\n",
       "    </tr>\n",
       "    <tr>\n",
       "      <th>5</th>\n",
       "      <td>ADAPTATION HOLES</td>\n",
       "      <td>6.0</td>\n",
       "      <td>3</td>\n",
       "      <td>A Astounding Reflection of a Lumberjack And a ...</td>\n",
       "      <td>2006</td>\n",
       "      <td>1</td>\n",
       "      <td>7</td>\n",
       "      <td>2.99</td>\n",
       "      <td>50</td>\n",
       "      <td>18.99</td>\n",
       "      <td>NC-17</td>\n",
       "      <td>Trailers,Deleted Scenes</td>\n",
       "      <td>15/2/06 05:03</td>\n",
       "    </tr>\n",
       "    <tr>\n",
       "      <th>8</th>\n",
       "      <td>AFFAIR PREJUDICE</td>\n",
       "      <td>NaN</td>\n",
       "      <td>4</td>\n",
       "      <td>A Fanciful Documentary of a Frisbee And a Lumb...</td>\n",
       "      <td>2006</td>\n",
       "      <td>1</td>\n",
       "      <td>5</td>\n",
       "      <td>2.99</td>\n",
       "      <td>117</td>\n",
       "      <td>26.99</td>\n",
       "      <td>G</td>\n",
       "      <td>Commentaries,Behind the Scenes</td>\n",
       "      <td>15/2/06 05:03</td>\n",
       "    </tr>\n",
       "    <tr>\n",
       "      <th>9</th>\n",
       "      <td>AFRICAN EGG</td>\n",
       "      <td>NaN</td>\n",
       "      <td>5</td>\n",
       "      <td>A Fast-Paced Documentary of a Pastry Chef And ...</td>\n",
       "      <td>2006</td>\n",
       "      <td>1</td>\n",
       "      <td>6</td>\n",
       "      <td>2.99</td>\n",
       "      <td>130</td>\n",
       "      <td>22.99</td>\n",
       "      <td>G</td>\n",
       "      <td>Deleted Scenes</td>\n",
       "      <td>15/2/06 05:03</td>\n",
       "    </tr>\n",
       "    <tr>\n",
       "      <th>...</th>\n",
       "      <td>...</td>\n",
       "      <td>...</td>\n",
       "      <td>...</td>\n",
       "      <td>...</td>\n",
       "      <td>...</td>\n",
       "      <td>...</td>\n",
       "      <td>...</td>\n",
       "      <td>...</td>\n",
       "      <td>...</td>\n",
       "      <td>...</td>\n",
       "      <td>...</td>\n",
       "      <td>...</td>\n",
       "      <td>...</td>\n",
       "    </tr>\n",
       "    <tr>\n",
       "      <th>1379</th>\n",
       "      <td>YOUNG LANGUAGE</td>\n",
       "      <td>6.0</td>\n",
       "      <td>996</td>\n",
       "      <td>A Unbelieveable Yarn of a Boat And a Database ...</td>\n",
       "      <td>2006</td>\n",
       "      <td>1</td>\n",
       "      <td>6</td>\n",
       "      <td>0.99</td>\n",
       "      <td>183</td>\n",
       "      <td>9.99</td>\n",
       "      <td>G</td>\n",
       "      <td>Trailers,Behind the Scenes</td>\n",
       "      <td>15/2/06 05:03</td>\n",
       "    </tr>\n",
       "    <tr>\n",
       "      <th>1381</th>\n",
       "      <td>YOUTH KICK</td>\n",
       "      <td>12.0</td>\n",
       "      <td>997</td>\n",
       "      <td>A Touching Drama of a Teacher And a Cat who mu...</td>\n",
       "      <td>2006</td>\n",
       "      <td>1</td>\n",
       "      <td>4</td>\n",
       "      <td>0.99</td>\n",
       "      <td>179</td>\n",
       "      <td>14.99</td>\n",
       "      <td>NC-17</td>\n",
       "      <td>Trailers,Behind the Scenes</td>\n",
       "      <td>15/2/06 05:03</td>\n",
       "    </tr>\n",
       "    <tr>\n",
       "      <th>1383</th>\n",
       "      <td>ZHIVAGO CORE</td>\n",
       "      <td>11.0</td>\n",
       "      <td>998</td>\n",
       "      <td>A Fateful Yarn of a Composer And a Man who mus...</td>\n",
       "      <td>2006</td>\n",
       "      <td>1</td>\n",
       "      <td>6</td>\n",
       "      <td>0.99</td>\n",
       "      <td>105</td>\n",
       "      <td>10.99</td>\n",
       "      <td>NC-17</td>\n",
       "      <td>Deleted Scenes</td>\n",
       "      <td>15/2/06 05:03</td>\n",
       "    </tr>\n",
       "    <tr>\n",
       "      <th>1384</th>\n",
       "      <td>ZOOLANDER FICTION</td>\n",
       "      <td>NaN</td>\n",
       "      <td>999</td>\n",
       "      <td>A Fateful Reflection of a Waitress And a Boat ...</td>\n",
       "      <td>2006</td>\n",
       "      <td>1</td>\n",
       "      <td>5</td>\n",
       "      <td>2.99</td>\n",
       "      <td>101</td>\n",
       "      <td>28.99</td>\n",
       "      <td>R</td>\n",
       "      <td>Trailers,Deleted Scenes</td>\n",
       "      <td>15/2/06 05:03</td>\n",
       "    </tr>\n",
       "    <tr>\n",
       "      <th>1385</th>\n",
       "      <td>ZORRO ARK</td>\n",
       "      <td>NaN</td>\n",
       "      <td>1000</td>\n",
       "      <td>A Intrepid Panorama of a Mad Scientist And a B...</td>\n",
       "      <td>2006</td>\n",
       "      <td>1</td>\n",
       "      <td>3</td>\n",
       "      <td>4.99</td>\n",
       "      <td>50</td>\n",
       "      <td>18.99</td>\n",
       "      <td>NC-17</td>\n",
       "      <td>Trailers,Commentaries,Behind the Scenes</td>\n",
       "      <td>15/2/06 05:03</td>\n",
       "    </tr>\n",
       "  </tbody>\n",
       "</table>\n",
       "<p>1000 rows × 13 columns</p>\n",
       "</div>"
      ],
      "text/plain": [
       "                  title  category_id  film_id  \\\n",
       "0      ACADEMY DINOSAUR          6.0        1   \n",
       "4        ACE GOLDFINGER         11.0        2   \n",
       "5      ADAPTATION HOLES          6.0        3   \n",
       "8      AFFAIR PREJUDICE          NaN        4   \n",
       "9           AFRICAN EGG          NaN        5   \n",
       "...                 ...          ...      ...   \n",
       "1379     YOUNG LANGUAGE          6.0      996   \n",
       "1381         YOUTH KICK         12.0      997   \n",
       "1383       ZHIVAGO CORE         11.0      998   \n",
       "1384  ZOOLANDER FICTION          NaN      999   \n",
       "1385          ZORRO ARK          NaN     1000   \n",
       "\n",
       "                                            description  release_year_y  \\\n",
       "0     A Epic Drama of a Feminist And a Mad Scientist...            2006   \n",
       "4     A Astounding Epistle of a Database Administrat...            2006   \n",
       "5     A Astounding Reflection of a Lumberjack And a ...            2006   \n",
       "8     A Fanciful Documentary of a Frisbee And a Lumb...            2006   \n",
       "9     A Fast-Paced Documentary of a Pastry Chef And ...            2006   \n",
       "...                                                 ...             ...   \n",
       "1379  A Unbelieveable Yarn of a Boat And a Database ...            2006   \n",
       "1381  A Touching Drama of a Teacher And a Cat who mu...            2006   \n",
       "1383  A Fateful Yarn of a Composer And a Man who mus...            2006   \n",
       "1384  A Fateful Reflection of a Waitress And a Boat ...            2006   \n",
       "1385  A Intrepid Panorama of a Mad Scientist And a B...            2006   \n",
       "\n",
       "      language_id  rental_duration  rental_rate  length  replacement_cost  \\\n",
       "0               1                6         0.99      86             20.99   \n",
       "4               1                3         4.99      48             12.99   \n",
       "5               1                7         2.99      50             18.99   \n",
       "8               1                5         2.99     117             26.99   \n",
       "9               1                6         2.99     130             22.99   \n",
       "...           ...              ...          ...     ...               ...   \n",
       "1379            1                6         0.99     183              9.99   \n",
       "1381            1                4         0.99     179             14.99   \n",
       "1383            1                6         0.99     105             10.99   \n",
       "1384            1                5         2.99     101             28.99   \n",
       "1385            1                3         4.99      50             18.99   \n",
       "\n",
       "     rating                         special_features    last_update  \n",
       "0        PG         Deleted Scenes,Behind the Scenes  15/2/06 05:03  \n",
       "4         G                  Trailers,Deleted Scenes  15/2/06 05:03  \n",
       "5     NC-17                  Trailers,Deleted Scenes  15/2/06 05:03  \n",
       "8         G           Commentaries,Behind the Scenes  15/2/06 05:03  \n",
       "9         G                           Deleted Scenes  15/2/06 05:03  \n",
       "...     ...                                      ...            ...  \n",
       "1379      G               Trailers,Behind the Scenes  15/2/06 05:03  \n",
       "1381  NC-17               Trailers,Behind the Scenes  15/2/06 05:03  \n",
       "1383  NC-17                           Deleted Scenes  15/2/06 05:03  \n",
       "1384      R                  Trailers,Deleted Scenes  15/2/06 05:03  \n",
       "1385  NC-17  Trailers,Commentaries,Behind the Scenes  15/2/06 05:03  \n",
       "\n",
       "[1000 rows x 13 columns]"
      ]
     },
     "execution_count": 24,
     "metadata": {},
     "output_type": "execute_result"
    }
   ],
   "source": [
    "old_HDD"
   ]
  },
  {
   "cell_type": "code",
   "execution_count": 25,
   "id": "249281d2",
   "metadata": {},
   "outputs": [
    {
     "data": {
      "text/plain": [
       "title               0\n",
       "category_id         0\n",
       "film_id             0\n",
       "description         0\n",
       "release_year_y      0\n",
       "language_id         0\n",
       "rental_duration     0\n",
       "rental_rate         0\n",
       "length              0\n",
       "replacement_cost    0\n",
       "rating              0\n",
       "special_features    0\n",
       "last_update         0\n",
       "dtype: int64"
      ]
     },
     "execution_count": 25,
     "metadata": {},
     "output_type": "execute_result"
    }
   ],
   "source": [
    "old_HDD.fillna(0, inplace=True)\n",
    "old_HDD.isnull().sum()"
   ]
  },
  {
   "cell_type": "code",
   "execution_count": 26,
   "id": "80f11bbd",
   "metadata": {},
   "outputs": [
    {
     "data": {
      "text/html": [
       "<div>\n",
       "<style scoped>\n",
       "    .dataframe tbody tr th:only-of-type {\n",
       "        vertical-align: middle;\n",
       "    }\n",
       "\n",
       "    .dataframe tbody tr th {\n",
       "        vertical-align: top;\n",
       "    }\n",
       "\n",
       "    .dataframe thead th {\n",
       "        text-align: right;\n",
       "    }\n",
       "</style>\n",
       "<table border=\"1\" class=\"dataframe\">\n",
       "  <thead>\n",
       "    <tr style=\"text-align: right;\">\n",
       "      <th></th>\n",
       "      <th>title</th>\n",
       "      <th>category_id</th>\n",
       "      <th>film_id</th>\n",
       "      <th>description</th>\n",
       "      <th>release_year_y</th>\n",
       "      <th>language_id</th>\n",
       "      <th>rental_duration</th>\n",
       "      <th>rental_rate</th>\n",
       "      <th>length</th>\n",
       "      <th>replacement_cost</th>\n",
       "      <th>rating</th>\n",
       "      <th>special_features</th>\n",
       "      <th>last_update</th>\n",
       "    </tr>\n",
       "  </thead>\n",
       "  <tbody>\n",
       "    <tr>\n",
       "      <th>0</th>\n",
       "      <td>ACADEMY DINOSAUR</td>\n",
       "      <td>6.0</td>\n",
       "      <td>1</td>\n",
       "      <td>A Epic Drama of a Feminist And a Mad Scientist...</td>\n",
       "      <td>2006</td>\n",
       "      <td>1</td>\n",
       "      <td>6</td>\n",
       "      <td>0.99</td>\n",
       "      <td>86</td>\n",
       "      <td>20.99</td>\n",
       "      <td>PG</td>\n",
       "      <td>Deleted Scenes,Behind the Scenes</td>\n",
       "      <td>15/2/06 05:03</td>\n",
       "    </tr>\n",
       "    <tr>\n",
       "      <th>4</th>\n",
       "      <td>ACE GOLDFINGER</td>\n",
       "      <td>11.0</td>\n",
       "      <td>2</td>\n",
       "      <td>A Astounding Epistle of a Database Administrat...</td>\n",
       "      <td>2006</td>\n",
       "      <td>1</td>\n",
       "      <td>3</td>\n",
       "      <td>4.99</td>\n",
       "      <td>48</td>\n",
       "      <td>12.99</td>\n",
       "      <td>G</td>\n",
       "      <td>Trailers,Deleted Scenes</td>\n",
       "      <td>15/2/06 05:03</td>\n",
       "    </tr>\n",
       "    <tr>\n",
       "      <th>5</th>\n",
       "      <td>ADAPTATION HOLES</td>\n",
       "      <td>6.0</td>\n",
       "      <td>3</td>\n",
       "      <td>A Astounding Reflection of a Lumberjack And a ...</td>\n",
       "      <td>2006</td>\n",
       "      <td>1</td>\n",
       "      <td>7</td>\n",
       "      <td>2.99</td>\n",
       "      <td>50</td>\n",
       "      <td>18.99</td>\n",
       "      <td>NC-17</td>\n",
       "      <td>Trailers,Deleted Scenes</td>\n",
       "      <td>15/2/06 05:03</td>\n",
       "    </tr>\n",
       "  </tbody>\n",
       "</table>\n",
       "</div>"
      ],
      "text/plain": [
       "              title  category_id  film_id  \\\n",
       "0  ACADEMY DINOSAUR          6.0        1   \n",
       "4    ACE GOLDFINGER         11.0        2   \n",
       "5  ADAPTATION HOLES          6.0        3   \n",
       "\n",
       "                                         description  release_year_y  \\\n",
       "0  A Epic Drama of a Feminist And a Mad Scientist...            2006   \n",
       "4  A Astounding Epistle of a Database Administrat...            2006   \n",
       "5  A Astounding Reflection of a Lumberjack And a ...            2006   \n",
       "\n",
       "   language_id  rental_duration  rental_rate  length  replacement_cost rating  \\\n",
       "0            1                6         0.99      86             20.99     PG   \n",
       "4            1                3         4.99      48             12.99      G   \n",
       "5            1                7         2.99      50             18.99  NC-17   \n",
       "\n",
       "                   special_features    last_update  \n",
       "0  Deleted Scenes,Behind the Scenes  15/2/06 05:03  \n",
       "4           Trailers,Deleted Scenes  15/2/06 05:03  \n",
       "5           Trailers,Deleted Scenes  15/2/06 05:03  "
      ]
     },
     "execution_count": 26,
     "metadata": {},
     "output_type": "execute_result"
    }
   ],
   "source": [
    "old_HDD.head(3)"
   ]
  },
  {
   "cell_type": "code",
   "execution_count": 27,
   "id": "161e7329",
   "metadata": {},
   "outputs": [],
   "source": [
    "old_HDD.drop(columns='last_update', inplace=True)"
   ]
  },
  {
   "cell_type": "code",
   "execution_count": 28,
   "id": "90e986ef",
   "metadata": {},
   "outputs": [],
   "source": [
    "old_HDD['category_id'] = old_HDD['category_id'].astype(int)"
   ]
  },
  {
   "cell_type": "code",
   "execution_count": 29,
   "id": "6c7a9b75",
   "metadata": {},
   "outputs": [],
   "source": [
    "desired_order = ['film_id', 'title','category_id','release_year_y','description','language_id','rental_duration','rental_rate','length','rating','special_features','replacement_cost']\n",
    "old_HDD = old_HDD.reindex(columns=desired_order)"
   ]
  },
  {
   "cell_type": "code",
   "execution_count": 30,
   "id": "b376e5ca",
   "metadata": {},
   "outputs": [],
   "source": [
    "film = old_HDD"
   ]
  },
  {
   "cell_type": "code",
   "execution_count": 31,
   "id": "297e96ba",
   "metadata": {},
   "outputs": [
    {
     "data": {
      "text/html": [
       "<div>\n",
       "<style scoped>\n",
       "    .dataframe tbody tr th:only-of-type {\n",
       "        vertical-align: middle;\n",
       "    }\n",
       "\n",
       "    .dataframe tbody tr th {\n",
       "        vertical-align: top;\n",
       "    }\n",
       "\n",
       "    .dataframe thead th {\n",
       "        text-align: right;\n",
       "    }\n",
       "</style>\n",
       "<table border=\"1\" class=\"dataframe\">\n",
       "  <thead>\n",
       "    <tr style=\"text-align: right;\">\n",
       "      <th></th>\n",
       "      <th>film_id</th>\n",
       "      <th>title</th>\n",
       "      <th>category_id</th>\n",
       "      <th>release_year</th>\n",
       "      <th>description</th>\n",
       "      <th>language_id</th>\n",
       "      <th>rental_duration</th>\n",
       "      <th>rental_rate</th>\n",
       "      <th>length</th>\n",
       "      <th>rating</th>\n",
       "      <th>special_features</th>\n",
       "      <th>replacement_cost</th>\n",
       "    </tr>\n",
       "  </thead>\n",
       "  <tbody>\n",
       "    <tr>\n",
       "      <th>0</th>\n",
       "      <td>1</td>\n",
       "      <td>ACADEMY DINOSAUR</td>\n",
       "      <td>6</td>\n",
       "      <td>2006</td>\n",
       "      <td>A Epic Drama of a Feminist And a Mad Scientist...</td>\n",
       "      <td>1</td>\n",
       "      <td>6</td>\n",
       "      <td>0.99</td>\n",
       "      <td>86</td>\n",
       "      <td>PG</td>\n",
       "      <td>Deleted Scenes,Behind the Scenes</td>\n",
       "      <td>20.99</td>\n",
       "    </tr>\n",
       "    <tr>\n",
       "      <th>4</th>\n",
       "      <td>2</td>\n",
       "      <td>ACE GOLDFINGER</td>\n",
       "      <td>11</td>\n",
       "      <td>2006</td>\n",
       "      <td>A Astounding Epistle of a Database Administrat...</td>\n",
       "      <td>1</td>\n",
       "      <td>3</td>\n",
       "      <td>4.99</td>\n",
       "      <td>48</td>\n",
       "      <td>G</td>\n",
       "      <td>Trailers,Deleted Scenes</td>\n",
       "      <td>12.99</td>\n",
       "    </tr>\n",
       "    <tr>\n",
       "      <th>5</th>\n",
       "      <td>3</td>\n",
       "      <td>ADAPTATION HOLES</td>\n",
       "      <td>6</td>\n",
       "      <td>2006</td>\n",
       "      <td>A Astounding Reflection of a Lumberjack And a ...</td>\n",
       "      <td>1</td>\n",
       "      <td>7</td>\n",
       "      <td>2.99</td>\n",
       "      <td>50</td>\n",
       "      <td>NC-17</td>\n",
       "      <td>Trailers,Deleted Scenes</td>\n",
       "      <td>18.99</td>\n",
       "    </tr>\n",
       "    <tr>\n",
       "      <th>8</th>\n",
       "      <td>4</td>\n",
       "      <td>AFFAIR PREJUDICE</td>\n",
       "      <td>0</td>\n",
       "      <td>2006</td>\n",
       "      <td>A Fanciful Documentary of a Frisbee And a Lumb...</td>\n",
       "      <td>1</td>\n",
       "      <td>5</td>\n",
       "      <td>2.99</td>\n",
       "      <td>117</td>\n",
       "      <td>G</td>\n",
       "      <td>Commentaries,Behind the Scenes</td>\n",
       "      <td>26.99</td>\n",
       "    </tr>\n",
       "    <tr>\n",
       "      <th>9</th>\n",
       "      <td>5</td>\n",
       "      <td>AFRICAN EGG</td>\n",
       "      <td>0</td>\n",
       "      <td>2006</td>\n",
       "      <td>A Fast-Paced Documentary of a Pastry Chef And ...</td>\n",
       "      <td>1</td>\n",
       "      <td>6</td>\n",
       "      <td>2.99</td>\n",
       "      <td>130</td>\n",
       "      <td>G</td>\n",
       "      <td>Deleted Scenes</td>\n",
       "      <td>22.99</td>\n",
       "    </tr>\n",
       "    <tr>\n",
       "      <th>...</th>\n",
       "      <td>...</td>\n",
       "      <td>...</td>\n",
       "      <td>...</td>\n",
       "      <td>...</td>\n",
       "      <td>...</td>\n",
       "      <td>...</td>\n",
       "      <td>...</td>\n",
       "      <td>...</td>\n",
       "      <td>...</td>\n",
       "      <td>...</td>\n",
       "      <td>...</td>\n",
       "      <td>...</td>\n",
       "    </tr>\n",
       "    <tr>\n",
       "      <th>1379</th>\n",
       "      <td>996</td>\n",
       "      <td>YOUNG LANGUAGE</td>\n",
       "      <td>6</td>\n",
       "      <td>2006</td>\n",
       "      <td>A Unbelieveable Yarn of a Boat And a Database ...</td>\n",
       "      <td>1</td>\n",
       "      <td>6</td>\n",
       "      <td>0.99</td>\n",
       "      <td>183</td>\n",
       "      <td>G</td>\n",
       "      <td>Trailers,Behind the Scenes</td>\n",
       "      <td>9.99</td>\n",
       "    </tr>\n",
       "    <tr>\n",
       "      <th>1381</th>\n",
       "      <td>997</td>\n",
       "      <td>YOUTH KICK</td>\n",
       "      <td>12</td>\n",
       "      <td>2006</td>\n",
       "      <td>A Touching Drama of a Teacher And a Cat who mu...</td>\n",
       "      <td>1</td>\n",
       "      <td>4</td>\n",
       "      <td>0.99</td>\n",
       "      <td>179</td>\n",
       "      <td>NC-17</td>\n",
       "      <td>Trailers,Behind the Scenes</td>\n",
       "      <td>14.99</td>\n",
       "    </tr>\n",
       "    <tr>\n",
       "      <th>1383</th>\n",
       "      <td>998</td>\n",
       "      <td>ZHIVAGO CORE</td>\n",
       "      <td>11</td>\n",
       "      <td>2006</td>\n",
       "      <td>A Fateful Yarn of a Composer And a Man who mus...</td>\n",
       "      <td>1</td>\n",
       "      <td>6</td>\n",
       "      <td>0.99</td>\n",
       "      <td>105</td>\n",
       "      <td>NC-17</td>\n",
       "      <td>Deleted Scenes</td>\n",
       "      <td>10.99</td>\n",
       "    </tr>\n",
       "    <tr>\n",
       "      <th>1384</th>\n",
       "      <td>999</td>\n",
       "      <td>ZOOLANDER FICTION</td>\n",
       "      <td>0</td>\n",
       "      <td>2006</td>\n",
       "      <td>A Fateful Reflection of a Waitress And a Boat ...</td>\n",
       "      <td>1</td>\n",
       "      <td>5</td>\n",
       "      <td>2.99</td>\n",
       "      <td>101</td>\n",
       "      <td>R</td>\n",
       "      <td>Trailers,Deleted Scenes</td>\n",
       "      <td>28.99</td>\n",
       "    </tr>\n",
       "    <tr>\n",
       "      <th>1385</th>\n",
       "      <td>1000</td>\n",
       "      <td>ZORRO ARK</td>\n",
       "      <td>0</td>\n",
       "      <td>2006</td>\n",
       "      <td>A Intrepid Panorama of a Mad Scientist And a B...</td>\n",
       "      <td>1</td>\n",
       "      <td>3</td>\n",
       "      <td>4.99</td>\n",
       "      <td>50</td>\n",
       "      <td>NC-17</td>\n",
       "      <td>Trailers,Commentaries,Behind the Scenes</td>\n",
       "      <td>18.99</td>\n",
       "    </tr>\n",
       "  </tbody>\n",
       "</table>\n",
       "<p>1000 rows × 12 columns</p>\n",
       "</div>"
      ],
      "text/plain": [
       "      film_id              title  category_id  release_year  \\\n",
       "0           1   ACADEMY DINOSAUR            6          2006   \n",
       "4           2     ACE GOLDFINGER           11          2006   \n",
       "5           3   ADAPTATION HOLES            6          2006   \n",
       "8           4   AFFAIR PREJUDICE            0          2006   \n",
       "9           5        AFRICAN EGG            0          2006   \n",
       "...       ...                ...          ...           ...   \n",
       "1379      996     YOUNG LANGUAGE            6          2006   \n",
       "1381      997         YOUTH KICK           12          2006   \n",
       "1383      998       ZHIVAGO CORE           11          2006   \n",
       "1384      999  ZOOLANDER FICTION            0          2006   \n",
       "1385     1000          ZORRO ARK            0          2006   \n",
       "\n",
       "                                            description  language_id  \\\n",
       "0     A Epic Drama of a Feminist And a Mad Scientist...            1   \n",
       "4     A Astounding Epistle of a Database Administrat...            1   \n",
       "5     A Astounding Reflection of a Lumberjack And a ...            1   \n",
       "8     A Fanciful Documentary of a Frisbee And a Lumb...            1   \n",
       "9     A Fast-Paced Documentary of a Pastry Chef And ...            1   \n",
       "...                                                 ...          ...   \n",
       "1379  A Unbelieveable Yarn of a Boat And a Database ...            1   \n",
       "1381  A Touching Drama of a Teacher And a Cat who mu...            1   \n",
       "1383  A Fateful Yarn of a Composer And a Man who mus...            1   \n",
       "1384  A Fateful Reflection of a Waitress And a Boat ...            1   \n",
       "1385  A Intrepid Panorama of a Mad Scientist And a B...            1   \n",
       "\n",
       "      rental_duration  rental_rate  length rating  \\\n",
       "0                   6         0.99      86     PG   \n",
       "4                   3         4.99      48      G   \n",
       "5                   7         2.99      50  NC-17   \n",
       "8                   5         2.99     117      G   \n",
       "9                   6         2.99     130      G   \n",
       "...               ...          ...     ...    ...   \n",
       "1379                6         0.99     183      G   \n",
       "1381                4         0.99     179  NC-17   \n",
       "1383                6         0.99     105  NC-17   \n",
       "1384                5         2.99     101      R   \n",
       "1385                3         4.99      50  NC-17   \n",
       "\n",
       "                             special_features  replacement_cost  \n",
       "0            Deleted Scenes,Behind the Scenes             20.99  \n",
       "4                     Trailers,Deleted Scenes             12.99  \n",
       "5                     Trailers,Deleted Scenes             18.99  \n",
       "8              Commentaries,Behind the Scenes             26.99  \n",
       "9                              Deleted Scenes             22.99  \n",
       "...                                       ...               ...  \n",
       "1379               Trailers,Behind the Scenes              9.99  \n",
       "1381               Trailers,Behind the Scenes             14.99  \n",
       "1383                           Deleted Scenes             10.99  \n",
       "1384                  Trailers,Deleted Scenes             28.99  \n",
       "1385  Trailers,Commentaries,Behind the Scenes             18.99  \n",
       "\n",
       "[1000 rows x 12 columns]"
      ]
     },
     "execution_count": 31,
     "metadata": {},
     "output_type": "execute_result"
    }
   ],
   "source": [
    "film.rename(columns={'release_year_y': 'release_year'}, inplace=True)\n",
    "film"
   ]
  },
  {
   "cell_type": "code",
   "execution_count": 32,
   "id": "9a607206",
   "metadata": {},
   "outputs": [],
   "source": [
    "old_HDD2 = pd.read_csv('old_HDD2.csv',delimiter= ';')  "
   ]
  },
  {
   "cell_type": "code",
   "execution_count": 33,
   "id": "b0c1a6ac",
   "metadata": {},
   "outputs": [
    {
     "data": {
      "text/html": [
       "<div>\n",
       "<style scoped>\n",
       "    .dataframe tbody tr th:only-of-type {\n",
       "        vertical-align: middle;\n",
       "    }\n",
       "\n",
       "    .dataframe tbody tr th {\n",
       "        vertical-align: top;\n",
       "    }\n",
       "\n",
       "    .dataframe thead th {\n",
       "        text-align: right;\n",
       "    }\n",
       "</style>\n",
       "<table border=\"1\" class=\"dataframe\">\n",
       "  <thead>\n",
       "    <tr style=\"text-align: right;\">\n",
       "      <th></th>\n",
       "      <th>first_name</th>\n",
       "      <th>last_name</th>\n",
       "      <th>title</th>\n",
       "      <th>release_year</th>\n",
       "      <th>category_id</th>\n",
       "    </tr>\n",
       "  </thead>\n",
       "  <tbody>\n",
       "    <tr>\n",
       "      <th>0</th>\n",
       "      <td>PENELOPE</td>\n",
       "      <td>GUINESS</td>\n",
       "      <td>ACADEMY DINOSAUR</td>\n",
       "      <td>2006</td>\n",
       "      <td>6</td>\n",
       "    </tr>\n",
       "    <tr>\n",
       "      <th>1</th>\n",
       "      <td>PENELOPE</td>\n",
       "      <td>GUINESS</td>\n",
       "      <td>ANACONDA CONFESSIONS</td>\n",
       "      <td>2006</td>\n",
       "      <td>2</td>\n",
       "    </tr>\n",
       "    <tr>\n",
       "      <th>2</th>\n",
       "      <td>PENELOPE</td>\n",
       "      <td>GUINESS</td>\n",
       "      <td>ANGELS LIFE</td>\n",
       "      <td>2006</td>\n",
       "      <td>13</td>\n",
       "    </tr>\n",
       "    <tr>\n",
       "      <th>3</th>\n",
       "      <td>PENELOPE</td>\n",
       "      <td>GUINESS</td>\n",
       "      <td>BULWORTH COMMANDMENTS</td>\n",
       "      <td>2006</td>\n",
       "      <td>10</td>\n",
       "    </tr>\n",
       "    <tr>\n",
       "      <th>4</th>\n",
       "      <td>PENELOPE</td>\n",
       "      <td>GUINESS</td>\n",
       "      <td>CHEAPER CLYDE</td>\n",
       "      <td>2006</td>\n",
       "      <td>14</td>\n",
       "    </tr>\n",
       "    <tr>\n",
       "      <th>...</th>\n",
       "      <td>...</td>\n",
       "      <td>...</td>\n",
       "      <td>...</td>\n",
       "      <td>...</td>\n",
       "      <td>...</td>\n",
       "    </tr>\n",
       "    <tr>\n",
       "      <th>995</th>\n",
       "      <td>GOLDIE</td>\n",
       "      <td>BRODY</td>\n",
       "      <td>COMANCHEROS ENEMY</td>\n",
       "      <td>2006</td>\n",
       "      <td>3</td>\n",
       "    </tr>\n",
       "    <tr>\n",
       "      <th>996</th>\n",
       "      <td>GOLDIE</td>\n",
       "      <td>BRODY</td>\n",
       "      <td>DAISY MENAGERIE</td>\n",
       "      <td>2006</td>\n",
       "      <td>14</td>\n",
       "    </tr>\n",
       "    <tr>\n",
       "      <th>997</th>\n",
       "      <td>GOLDIE</td>\n",
       "      <td>BRODY</td>\n",
       "      <td>DESERT POSEIDON</td>\n",
       "      <td>2006</td>\n",
       "      <td>11</td>\n",
       "    </tr>\n",
       "    <tr>\n",
       "      <th>998</th>\n",
       "      <td>GOLDIE</td>\n",
       "      <td>BRODY</td>\n",
       "      <td>EVERYONE CRAFT</td>\n",
       "      <td>2006</td>\n",
       "      <td>9</td>\n",
       "    </tr>\n",
       "    <tr>\n",
       "      <th>999</th>\n",
       "      <td>GOLDIE</td>\n",
       "      <td>BRODY</td>\n",
       "      <td>EXORCIST STING</td>\n",
       "      <td>2006</td>\n",
       "      <td>15</td>\n",
       "    </tr>\n",
       "  </tbody>\n",
       "</table>\n",
       "<p>1000 rows × 5 columns</p>\n",
       "</div>"
      ],
      "text/plain": [
       "    first_name last_name                  title  release_year  category_id\n",
       "0     PENELOPE   GUINESS       ACADEMY DINOSAUR          2006            6\n",
       "1     PENELOPE   GUINESS   ANACONDA CONFESSIONS          2006            2\n",
       "2     PENELOPE   GUINESS            ANGELS LIFE          2006           13\n",
       "3     PENELOPE   GUINESS  BULWORTH COMMANDMENTS          2006           10\n",
       "4     PENELOPE   GUINESS          CHEAPER CLYDE          2006           14\n",
       "..         ...       ...                    ...           ...          ...\n",
       "995     GOLDIE     BRODY      COMANCHEROS ENEMY          2006            3\n",
       "996     GOLDIE     BRODY        DAISY MENAGERIE          2006           14\n",
       "997     GOLDIE     BRODY        DESERT POSEIDON          2006           11\n",
       "998     GOLDIE     BRODY         EVERYONE CRAFT          2006            9\n",
       "999     GOLDIE     BRODY         EXORCIST STING          2006           15\n",
       "\n",
       "[1000 rows x 5 columns]"
      ]
     },
     "execution_count": 33,
     "metadata": {},
     "output_type": "execute_result"
    }
   ],
   "source": [
    "old_HDD2"
   ]
  },
  {
   "cell_type": "code",
   "execution_count": 34,
   "id": "f688a77f",
   "metadata": {},
   "outputs": [
    {
     "ename": "KeyError",
     "evalue": "'full_name'",
     "output_type": "error",
     "traceback": [
      "\u001b[0;31m---------------------------------------------------------------------------\u001b[0m",
      "\u001b[0;31mKeyError\u001b[0m                                  Traceback (most recent call last)",
      "Cell \u001b[0;32mIn[34], line 1\u001b[0m\n\u001b[0;32m----> 1\u001b[0m actors_movies \u001b[38;5;241m=\u001b[39m \u001b[43mpd\u001b[49m\u001b[38;5;241;43m.\u001b[39;49m\u001b[43mmerge\u001b[49m\u001b[43m(\u001b[49m\u001b[43mold_HDD2\u001b[49m\u001b[43m,\u001b[49m\u001b[43m \u001b[49m\u001b[43mactor\u001b[49m\u001b[43m,\u001b[49m\u001b[43m \u001b[49m\u001b[43mon\u001b[49m\u001b[38;5;241;43m=\u001b[39;49m\u001b[38;5;124;43m'\u001b[39;49m\u001b[38;5;124;43mfull_name\u001b[39;49m\u001b[38;5;124;43m'\u001b[39;49m\u001b[43m,\u001b[49m\u001b[43m \u001b[49m\u001b[43mhow\u001b[49m\u001b[38;5;241;43m=\u001b[39;49m\u001b[38;5;124;43m'\u001b[39;49m\u001b[38;5;124;43minner\u001b[39;49m\u001b[38;5;124;43m'\u001b[39;49m\u001b[43m)\u001b[49m\n",
      "File \u001b[0;32m~/anaconda3/lib/python3.10/site-packages/pandas/core/reshape/merge.py:110\u001b[0m, in \u001b[0;36mmerge\u001b[0;34m(left, right, how, on, left_on, right_on, left_index, right_index, sort, suffixes, copy, indicator, validate)\u001b[0m\n\u001b[1;32m     93\u001b[0m \u001b[38;5;129m@Substitution\u001b[39m(\u001b[38;5;124m\"\u001b[39m\u001b[38;5;130;01m\\n\u001b[39;00m\u001b[38;5;124mleft : DataFrame or named Series\u001b[39m\u001b[38;5;124m\"\u001b[39m)\n\u001b[1;32m     94\u001b[0m \u001b[38;5;129m@Appender\u001b[39m(_merge_doc, indents\u001b[38;5;241m=\u001b[39m\u001b[38;5;241m0\u001b[39m)\n\u001b[1;32m     95\u001b[0m \u001b[38;5;28;01mdef\u001b[39;00m \u001b[38;5;21mmerge\u001b[39m(\n\u001b[0;32m   (...)\u001b[0m\n\u001b[1;32m    108\u001b[0m     validate: \u001b[38;5;28mstr\u001b[39m \u001b[38;5;241m|\u001b[39m \u001b[38;5;28;01mNone\u001b[39;00m \u001b[38;5;241m=\u001b[39m \u001b[38;5;28;01mNone\u001b[39;00m,\n\u001b[1;32m    109\u001b[0m ) \u001b[38;5;241m-\u001b[39m\u001b[38;5;241m>\u001b[39m DataFrame:\n\u001b[0;32m--> 110\u001b[0m     op \u001b[38;5;241m=\u001b[39m \u001b[43m_MergeOperation\u001b[49m\u001b[43m(\u001b[49m\n\u001b[1;32m    111\u001b[0m \u001b[43m        \u001b[49m\u001b[43mleft\u001b[49m\u001b[43m,\u001b[49m\n\u001b[1;32m    112\u001b[0m \u001b[43m        \u001b[49m\u001b[43mright\u001b[49m\u001b[43m,\u001b[49m\n\u001b[1;32m    113\u001b[0m \u001b[43m        \u001b[49m\u001b[43mhow\u001b[49m\u001b[38;5;241;43m=\u001b[39;49m\u001b[43mhow\u001b[49m\u001b[43m,\u001b[49m\n\u001b[1;32m    114\u001b[0m \u001b[43m        \u001b[49m\u001b[43mon\u001b[49m\u001b[38;5;241;43m=\u001b[39;49m\u001b[43mon\u001b[49m\u001b[43m,\u001b[49m\n\u001b[1;32m    115\u001b[0m \u001b[43m        \u001b[49m\u001b[43mleft_on\u001b[49m\u001b[38;5;241;43m=\u001b[39;49m\u001b[43mleft_on\u001b[49m\u001b[43m,\u001b[49m\n\u001b[1;32m    116\u001b[0m \u001b[43m        \u001b[49m\u001b[43mright_on\u001b[49m\u001b[38;5;241;43m=\u001b[39;49m\u001b[43mright_on\u001b[49m\u001b[43m,\u001b[49m\n\u001b[1;32m    117\u001b[0m \u001b[43m        \u001b[49m\u001b[43mleft_index\u001b[49m\u001b[38;5;241;43m=\u001b[39;49m\u001b[43mleft_index\u001b[49m\u001b[43m,\u001b[49m\n\u001b[1;32m    118\u001b[0m \u001b[43m        \u001b[49m\u001b[43mright_index\u001b[49m\u001b[38;5;241;43m=\u001b[39;49m\u001b[43mright_index\u001b[49m\u001b[43m,\u001b[49m\n\u001b[1;32m    119\u001b[0m \u001b[43m        \u001b[49m\u001b[43msort\u001b[49m\u001b[38;5;241;43m=\u001b[39;49m\u001b[43msort\u001b[49m\u001b[43m,\u001b[49m\n\u001b[1;32m    120\u001b[0m \u001b[43m        \u001b[49m\u001b[43msuffixes\u001b[49m\u001b[38;5;241;43m=\u001b[39;49m\u001b[43msuffixes\u001b[49m\u001b[43m,\u001b[49m\n\u001b[1;32m    121\u001b[0m \u001b[43m        \u001b[49m\u001b[43mindicator\u001b[49m\u001b[38;5;241;43m=\u001b[39;49m\u001b[43mindicator\u001b[49m\u001b[43m,\u001b[49m\n\u001b[1;32m    122\u001b[0m \u001b[43m        \u001b[49m\u001b[43mvalidate\u001b[49m\u001b[38;5;241;43m=\u001b[39;49m\u001b[43mvalidate\u001b[49m\u001b[43m,\u001b[49m\n\u001b[1;32m    123\u001b[0m \u001b[43m    \u001b[49m\u001b[43m)\u001b[49m\n\u001b[1;32m    124\u001b[0m     \u001b[38;5;28;01mreturn\u001b[39;00m op\u001b[38;5;241m.\u001b[39mget_result(copy\u001b[38;5;241m=\u001b[39mcopy)\n",
      "File \u001b[0;32m~/anaconda3/lib/python3.10/site-packages/pandas/core/reshape/merge.py:703\u001b[0m, in \u001b[0;36m_MergeOperation.__init__\u001b[0;34m(self, left, right, how, on, left_on, right_on, axis, left_index, right_index, sort, suffixes, indicator, validate)\u001b[0m\n\u001b[1;32m    696\u001b[0m \u001b[38;5;28mself\u001b[39m\u001b[38;5;241m.\u001b[39m_cross \u001b[38;5;241m=\u001b[39m cross_col\n\u001b[1;32m    698\u001b[0m \u001b[38;5;66;03m# note this function has side effects\u001b[39;00m\n\u001b[1;32m    699\u001b[0m (\n\u001b[1;32m    700\u001b[0m     \u001b[38;5;28mself\u001b[39m\u001b[38;5;241m.\u001b[39mleft_join_keys,\n\u001b[1;32m    701\u001b[0m     \u001b[38;5;28mself\u001b[39m\u001b[38;5;241m.\u001b[39mright_join_keys,\n\u001b[1;32m    702\u001b[0m     \u001b[38;5;28mself\u001b[39m\u001b[38;5;241m.\u001b[39mjoin_names,\n\u001b[0;32m--> 703\u001b[0m ) \u001b[38;5;241m=\u001b[39m \u001b[38;5;28;43mself\u001b[39;49m\u001b[38;5;241;43m.\u001b[39;49m\u001b[43m_get_merge_keys\u001b[49m\u001b[43m(\u001b[49m\u001b[43m)\u001b[49m\n\u001b[1;32m    705\u001b[0m \u001b[38;5;66;03m# validate the merge keys dtypes. We may need to coerce\u001b[39;00m\n\u001b[1;32m    706\u001b[0m \u001b[38;5;66;03m# to avoid incompatible dtypes\u001b[39;00m\n\u001b[1;32m    707\u001b[0m \u001b[38;5;28mself\u001b[39m\u001b[38;5;241m.\u001b[39m_maybe_coerce_merge_keys()\n",
      "File \u001b[0;32m~/anaconda3/lib/python3.10/site-packages/pandas/core/reshape/merge.py:1179\u001b[0m, in \u001b[0;36m_MergeOperation._get_merge_keys\u001b[0;34m(self)\u001b[0m\n\u001b[1;32m   1175\u001b[0m \u001b[38;5;28;01mif\u001b[39;00m lk \u001b[38;5;129;01mis\u001b[39;00m \u001b[38;5;129;01mnot\u001b[39;00m \u001b[38;5;28;01mNone\u001b[39;00m:\n\u001b[1;32m   1176\u001b[0m     \u001b[38;5;66;03m# Then we're either Hashable or a wrong-length arraylike,\u001b[39;00m\n\u001b[1;32m   1177\u001b[0m     \u001b[38;5;66;03m#  the latter of which will raise\u001b[39;00m\n\u001b[1;32m   1178\u001b[0m     lk \u001b[38;5;241m=\u001b[39m cast(Hashable, lk)\n\u001b[0;32m-> 1179\u001b[0m     left_keys\u001b[38;5;241m.\u001b[39mappend(\u001b[43mleft\u001b[49m\u001b[38;5;241;43m.\u001b[39;49m\u001b[43m_get_label_or_level_values\u001b[49m\u001b[43m(\u001b[49m\u001b[43mlk\u001b[49m\u001b[43m)\u001b[49m)\n\u001b[1;32m   1180\u001b[0m     join_names\u001b[38;5;241m.\u001b[39mappend(lk)\n\u001b[1;32m   1181\u001b[0m \u001b[38;5;28;01melse\u001b[39;00m:\n\u001b[1;32m   1182\u001b[0m     \u001b[38;5;66;03m# work-around for merge_asof(left_index=True)\u001b[39;00m\n",
      "File \u001b[0;32m~/anaconda3/lib/python3.10/site-packages/pandas/core/generic.py:1850\u001b[0m, in \u001b[0;36mNDFrame._get_label_or_level_values\u001b[0;34m(self, key, axis)\u001b[0m\n\u001b[1;32m   1844\u001b[0m     values \u001b[38;5;241m=\u001b[39m (\n\u001b[1;32m   1845\u001b[0m         \u001b[38;5;28mself\u001b[39m\u001b[38;5;241m.\u001b[39maxes[axis]\n\u001b[1;32m   1846\u001b[0m         \u001b[38;5;241m.\u001b[39mget_level_values(key)  \u001b[38;5;66;03m# type: ignore[assignment]\u001b[39;00m\n\u001b[1;32m   1847\u001b[0m         \u001b[38;5;241m.\u001b[39m_values\n\u001b[1;32m   1848\u001b[0m     )\n\u001b[1;32m   1849\u001b[0m \u001b[38;5;28;01melse\u001b[39;00m:\n\u001b[0;32m-> 1850\u001b[0m     \u001b[38;5;28;01mraise\u001b[39;00m \u001b[38;5;167;01mKeyError\u001b[39;00m(key)\n\u001b[1;32m   1852\u001b[0m \u001b[38;5;66;03m# Check for duplicates\u001b[39;00m\n\u001b[1;32m   1853\u001b[0m \u001b[38;5;28;01mif\u001b[39;00m values\u001b[38;5;241m.\u001b[39mndim \u001b[38;5;241m>\u001b[39m \u001b[38;5;241m1\u001b[39m:\n",
      "\u001b[0;31mKeyError\u001b[0m: 'full_name'"
     ]
    }
   ],
   "source": [
    "actors_movies = pd.merge(old_HDD2, actor, on='full_name', how='inner')"
   ]
  },
  {
   "cell_type": "code",
   "execution_count": null,
   "id": "a80797d9",
   "metadata": {},
   "outputs": [],
   "source": [
    "df['full_name'] = df['first_name'] + ' ' + df['last_name']"
   ]
  },
  {
   "cell_type": "markdown",
   "id": "f1f9382a",
   "metadata": {},
   "source": [
    "# Inventory Table"
   ]
  },
  {
   "cell_type": "code",
   "execution_count": null,
   "id": "dd840e90",
   "metadata": {},
   "outputs": [],
   "source": []
  },
  {
   "cell_type": "code",
   "execution_count": null,
   "id": "3cf342a2",
   "metadata": {},
   "outputs": [],
   "source": [
    "inventory"
   ]
  },
  {
   "cell_type": "code",
   "execution_count": null,
   "id": "eca4aba0",
   "metadata": {},
   "outputs": [],
   "source": [
    "inventory.isnull().sum()"
   ]
  },
  {
   "cell_type": "code",
   "execution_count": null,
   "id": "01d67c1c",
   "metadata": {},
   "outputs": [],
   "source": [
    "inventory.duplicated().sum()"
   ]
  },
  {
   "cell_type": "code",
   "execution_count": null,
   "id": "ceabca68",
   "metadata": {},
   "outputs": [],
   "source": [
    "inventory.info()"
   ]
  },
  {
   "cell_type": "code",
   "execution_count": null,
   "id": "59a3315a",
   "metadata": {},
   "outputs": [],
   "source": [
    "inventory.drop(columns='last_update', inplace=True)"
   ]
  },
  {
   "cell_type": "code",
   "execution_count": null,
   "id": "f8e90bb6",
   "metadata": {},
   "outputs": [],
   "source": [
    "inventory"
   ]
  },
  {
   "cell_type": "markdown",
   "id": "f1e0a4bc",
   "metadata": {},
   "source": [
    "# Language Table"
   ]
  },
  {
   "cell_type": "code",
   "execution_count": null,
   "id": "c6f9c8ba",
   "metadata": {},
   "outputs": [],
   "source": [
    "language = pd.read_csv('language.csv',delimiter= ';') \n",
    "language"
   ]
  },
  {
   "cell_type": "code",
   "execution_count": null,
   "id": "7b1afa2b",
   "metadata": {},
   "outputs": [],
   "source": [
    "language.isnull().sum()"
   ]
  },
  {
   "cell_type": "code",
   "execution_count": null,
   "id": "a3a4ab12",
   "metadata": {},
   "outputs": [],
   "source": [
    "language.duplicated().sum()"
   ]
  },
  {
   "cell_type": "code",
   "execution_count": null,
   "id": "596304f7",
   "metadata": {},
   "outputs": [],
   "source": [
    "language.drop(columns='last_update', inplace=True)"
   ]
  },
  {
   "cell_type": "code",
   "execution_count": null,
   "id": "4f581aaa",
   "metadata": {},
   "outputs": [],
   "source": [
    "language"
   ]
  },
  {
   "cell_type": "markdown",
   "id": "cabe0b46",
   "metadata": {},
   "source": [
    "# Rental Table"
   ]
  },
  {
   "cell_type": "code",
   "execution_count": null,
   "id": "07d0dce4",
   "metadata": {},
   "outputs": [],
   "source": [
    "rental "
   ]
  },
  {
   "cell_type": "code",
   "execution_count": null,
   "id": "99a253ec",
   "metadata": {},
   "outputs": [],
   "source": [
    "rental.info()"
   ]
  },
  {
   "cell_type": "code",
   "execution_count": null,
   "id": "3e1cf9bd",
   "metadata": {},
   "outputs": [],
   "source": [
    "rental.isnull().sum()"
   ]
  },
  {
   "cell_type": "code",
   "execution_count": null,
   "id": "ec76e252",
   "metadata": {},
   "outputs": [],
   "source": [
    "rental.duplicated().sum()"
   ]
  },
  {
   "cell_type": "code",
   "execution_count": null,
   "id": "ae1ba526",
   "metadata": {},
   "outputs": [],
   "source": [
    "rental.head()"
   ]
  },
  {
   "cell_type": "code",
   "execution_count": null,
   "id": "101f7924",
   "metadata": {},
   "outputs": [],
   "source": [
    "rental.drop(columns='last_update', inplace=True)"
   ]
  },
  {
   "cell_type": "code",
   "execution_count": null,
   "id": "eee564ce",
   "metadata": {},
   "outputs": [],
   "source": [
    "len(rental)"
   ]
  },
  {
   "cell_type": "code",
   "execution_count": null,
   "id": "f5c7c888",
   "metadata": {},
   "outputs": [],
   "source": [
    "rental.tail()"
   ]
  },
  {
   "cell_type": "code",
   "execution_count": null,
   "id": "bfedb563",
   "metadata": {},
   "outputs": [],
   "source": [
    "rental['rental_date'] = pd.to_datetime(rental['rental_date'], format='%d/%m/%y %H:%M')"
   ]
  },
  {
   "cell_type": "code",
   "execution_count": null,
   "id": "b7b47559",
   "metadata": {},
   "outputs": [],
   "source": [
    "rental['return_date'] = pd.to_datetime(rental['return_date'], format='%d/%m/%y %H:%M')"
   ]
  },
  {
   "cell_type": "code",
   "execution_count": null,
   "id": "66df117c",
   "metadata": {},
   "outputs": [],
   "source": [
    "rental"
   ]
  },
  {
   "cell_type": "markdown",
   "id": "af06dce2",
   "metadata": {},
   "source": [
    "# New Table: Customers"
   ]
  },
  {
   "cell_type": "code",
   "execution_count": null,
   "id": "c0c7a090",
   "metadata": {},
   "outputs": [],
   "source": [
    "customer1 = rental['customer_id'].unique()"
   ]
  },
  {
   "cell_type": "code",
   "execution_count": null,
   "id": "e29f3a45",
   "metadata": {},
   "outputs": [],
   "source": [
    "customer1"
   ]
  },
  {
   "cell_type": "code",
   "execution_count": null,
   "id": "9a42332a",
   "metadata": {},
   "outputs": [],
   "source": [
    "customer = pd.DataFrame(customer1, columns=['customer_id'])\n"
   ]
  },
  {
   "cell_type": "code",
   "execution_count": null,
   "id": "fcf4012e",
   "metadata": {},
   "outputs": [],
   "source": [
    "customer = customer.sort_values(by='customer_id', ascending=True)"
   ]
  },
  {
   "cell_type": "code",
   "execution_count": null,
   "id": "2da992e7",
   "metadata": {},
   "outputs": [],
   "source": [
    "customer = customer.reset_index(drop=True)"
   ]
  },
  {
   "cell_type": "code",
   "execution_count": null,
   "id": "d1f0c317",
   "metadata": {},
   "outputs": [],
   "source": [
    "import random\n",
    "import string\n",
    "\n",
    "# Function to generate a random name\n",
    "def generate_random_name():\n",
    "    letters = string.ascii_lowercase\n",
    "    return ''.join(random.choice(letters).capitalize() for i in range(5))\n",
    "\n",
    "names_list = [generate_random_name() for _ in range(485)]\n",
    "print(names_list)\n",
    "customer['Names']= names_list"
   ]
  },
  {
   "cell_type": "code",
   "execution_count": null,
   "id": "157be5d5",
   "metadata": {},
   "outputs": [],
   "source": [
    "customer.rename(columns={'Names': 'names'}, inplace=True)"
   ]
  },
  {
   "cell_type": "code",
   "execution_count": null,
   "id": "85c709a8",
   "metadata": {},
   "outputs": [],
   "source": [
    "customer"
   ]
  },
  {
   "cell_type": "code",
   "execution_count": null,
   "id": "96c590df",
   "metadata": {},
   "outputs": [],
   "source": [
    "import random\n",
    "\n",
    "def generate_random_phone_number():\n",
    "    area_code = random.randint(100, 999)\n",
    "    first_part = random.randint(100, 999)\n",
    "    second_part = random.randint(1000, 9999)\n",
    "    return f\"({area_code}) {first_part}-{second_part}\"\n",
    "\n",
    "# Generate a list of 485 phone numbers\n",
    "phone_numbers = [generate_random_phone_number() for _ in range(485)]\n",
    "\n",
    "# Display the list containing 485 phone numbers\n",
    "print(phone_numbers)"
   ]
  },
  {
   "cell_type": "code",
   "execution_count": null,
   "id": "cbbe6c5c",
   "metadata": {},
   "outputs": [],
   "source": [
    "customer['phone_number']= phone_numbers"
   ]
  },
  {
   "cell_type": "code",
   "execution_count": null,
   "id": "e933c7f4",
   "metadata": {},
   "outputs": [],
   "source": [
    "customer"
   ]
  },
  {
   "cell_type": "markdown",
   "id": "12893857",
   "metadata": {},
   "source": [
    "# New table: Staff"
   ]
  },
  {
   "cell_type": "code",
   "execution_count": null,
   "id": "604c850d",
   "metadata": {},
   "outputs": [],
   "source": [
    "staff = rental['staff_id'].unique()"
   ]
  },
  {
   "cell_type": "code",
   "execution_count": null,
   "id": "ba0aacab",
   "metadata": {},
   "outputs": [],
   "source": [
    "staff = pd.DataFrame(staff, columns=['staff_id'])"
   ]
  },
  {
   "cell_type": "code",
   "execution_count": null,
   "id": "a5cfbbc5",
   "metadata": {},
   "outputs": [],
   "source": [
    "staff"
   ]
  },
  {
   "cell_type": "code",
   "execution_count": null,
   "id": "2f0b314d",
   "metadata": {},
   "outputs": [],
   "source": [
    "staff['names']= ['Lorraine Sanchez', 'Christopher Perez']"
   ]
  },
  {
   "cell_type": "code",
   "execution_count": null,
   "id": "bc28f63f",
   "metadata": {},
   "outputs": [],
   "source": [
    "staff"
   ]
  },
  {
   "cell_type": "code",
   "execution_count": null,
   "id": "46e37576",
   "metadata": {},
   "outputs": [],
   "source": [
    "staff.drop('Names', axis=1, inplace=True)"
   ]
  },
  {
   "cell_type": "code",
   "execution_count": null,
   "id": "009db3db",
   "metadata": {},
   "outputs": [],
   "source": [
    "staff"
   ]
  },
  {
   "cell_type": "code",
   "execution_count": null,
   "id": "5d06770d",
   "metadata": {},
   "outputs": [],
   "source": [
    "distinct "
   ]
  },
  {
   "cell_type": "code",
   "execution_count": null,
   "id": "acb023f9",
   "metadata": {},
   "outputs": [],
   "source": [
    "inventory.to_csv('inventory_clean.csv', index=False)\n",
    "actor.to_csv('actor_clean.csv', index=False)\n",
    "film.to_csv('film_clean.csv', index=False)\n",
    "category.to_csv('category_clean.csv', index=False)\n",
    "language.to_csv('language_clean.csv', index=False)\n",
    "customer.to_csv('customer_clean.csv',index= False)\n",
    "staff.to_csv('staff_clean.csv',index= False)"
   ]
  },
  {
   "cell_type": "code",
   "execution_count": null,
   "id": "dc11855c",
   "metadata": {},
   "outputs": [],
   "source": [
    "rental_inventory_ids = set(rental['inventory_id'])\n",
    "inventory_inventory_ids = set(inventory['inventory_id'])\n",
    "\n",
    "# Identify the inventory_id values in rental that are not in inventory\n",
    "invalid_inventory_ids = rental_inventory_ids - inventory_inventory_ids\n",
    "\n",
    "# Delete rows with invalid inventory_id values from the rental DataFrame\n",
    "rental = rental[~rental['inventory_id'].isin(invalid_inventory_ids)]\n"
   ]
  },
  {
   "cell_type": "code",
   "execution_count": null,
   "id": "a3f6eddd",
   "metadata": {},
   "outputs": [],
   "source": [
    "rental.to_csv('rental_clean.csv', index=False)"
   ]
  }
 ],
 "metadata": {
  "kernelspec": {
   "display_name": "Python 3 (ipykernel)",
   "language": "python",
   "name": "python3"
  },
  "language_info": {
   "codemirror_mode": {
    "name": "ipython",
    "version": 3
   },
   "file_extension": ".py",
   "mimetype": "text/x-python",
   "name": "python",
   "nbconvert_exporter": "python",
   "pygments_lexer": "ipython3",
   "version": "3.10.9"
  }
 },
 "nbformat": 4,
 "nbformat_minor": 5
}
